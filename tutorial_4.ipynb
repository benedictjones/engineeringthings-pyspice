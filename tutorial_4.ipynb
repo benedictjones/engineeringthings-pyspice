{
 "cells": [
  {
   "cell_type": "markdown",
   "metadata": {},
   "source": [
    "# Tutorial 4\n",
    "\n",
    "Here we build a circuit and do a DC analysis, with a sweep of input voltages.\n"
   ]
  },
  {
   "cell_type": "markdown",
   "metadata": {},
   "source": [
    "### Set Up\n",
    "\n",
    "Lets get some intital imports out the way, and set auto reload, incase we change any of the external utils etc."
   ]
  },
  {
   "cell_type": "code",
   "execution_count": null,
   "metadata": {},
   "outputs": [],
   "source": [
    "import numpy as np\n",
    "import matplotlib.pyplot as plt\n",
    "import sys\n",
    "\n",
    "%load_ext autoreload\n",
    "%autoreload 2"
   ]
  },
  {
   "cell_type": "markdown",
   "metadata": {},
   "source": [
    "Now, `pyspice` imports, and setting up a logger."
   ]
  },
  {
   "cell_type": "code",
   "execution_count": null,
   "metadata": {},
   "outputs": [],
   "source": [
    "import PySpice\n",
    "import PySpice.Logging.Logging as Logging\n",
    "from PySpice.Spice.Netlist import Circuit\n",
    "from PySpice.Unit import *\n",
    "\n",
    "logger = Logging.setup_logging()"
   ]
  },
  {
   "cell_type": "markdown",
   "metadata": {},
   "source": [
    "Might need to change the simulator..."
   ]
  },
  {
   "cell_type": "code",
   "execution_count": null,
   "metadata": {},
   "outputs": [],
   "source": [
    "# # # change sim program location depending on system\n",
    "# if sys.platform == \"linux\" or sys.platform == \"linux2\":\n",
    "#     PySpice.Spice.Simulation.CircuitSimulator.DEFAULT_SIMULATOR = 'ngspice-subprocess'  # needed for linux\n",
    "# elif sys.platform == \"win32\":\n",
    "#     # You will get logging errors/warning, but is should work\n",
    "#     pass"
   ]
  },
  {
   "cell_type": "markdown",
   "metadata": {},
   "source": [
    "## Part 1: Simple DC Sweep\n",
    "\n",
    "\n"
   ]
  },
  {
   "cell_type": "markdown",
   "metadata": {},
   "source": [
    "Create the circuit"
   ]
  },
  {
   "cell_type": "code",
   "execution_count": null,
   "metadata": {},
   "outputs": [],
   "source": [
    "circuit = Circuit('Tutorial 4.1')\n",
    "\n",
    "# # Define the 1N4148PH (Signal Diode)\n",
    "circuit.model('MyDiode', 'D', IS=4.352@u_nA, RS=0.6458@u_Ohm, BV=110@u_V, IBV=0.0001@u_V, N=1.906)\n",
    "\n",
    "# # add components to the circuit\n",
    "circuit.V('input', 1, circuit.gnd, 10@u_V)\n",
    "circuit.Diode(1, 1, 2, model='MyDiode')\n",
    "circuit.R(1, 2, circuit.gnd, 1@u_kOhm)  # @u_kΩ is a unit of kOhms\n",
    "\n",
    "print(circuit)"
   ]
  },
  {
   "cell_type": "markdown",
   "metadata": {},
   "source": [
    "We can now create our simulation."
   ]
  },
  {
   "cell_type": "code",
   "execution_count": null,
   "metadata": {},
   "outputs": [],
   "source": [
    "simulator = circuit.simulator(temperature=25, nominal_temperature=25)"
   ]
  },
  {
   "cell_type": "markdown",
   "metadata": {},
   "source": [
    "Now, we run a DC voltage sweep. Here, apply a `slice()` as the sweep to the `input` node, used in the Voltage source component, which resolves to: `V<node>`."
   ]
  },
  {
   "cell_type": "code",
   "execution_count": null,
   "metadata": {},
   "outputs": [],
   "source": [
    "analysis = simulator.dc(Vinput=slice(0, 5, 0.1))"
   ]
  },
  {
   "cell_type": "markdown",
   "metadata": {},
   "source": [
    "The sweep of input values can be found in `analysis.sweep`"
   ]
  },
  {
   "cell_type": "code",
   "execution_count": null,
   "metadata": {},
   "outputs": [],
   "source": [
    "analysis.sweep"
   ]
  },
  {
   "cell_type": "markdown",
   "metadata": {},
   "source": [
    "As we would expect, the input sweep is the same as the resulting voltages on node `1`."
   ]
  },
  {
   "cell_type": "code",
   "execution_count": null,
   "metadata": {},
   "outputs": [],
   "source": [
    "(analysis.sweep == analysis[\"1\"]).all()"
   ]
  },
  {
   "cell_type": "markdown",
   "metadata": {},
   "source": [
    "We can plot some of our results."
   ]
  },
  {
   "cell_type": "code",
   "execution_count": null,
   "metadata": {},
   "outputs": [],
   "source": [
    "plt.plot(analysis[\"1\"], analysis[\"2\"])\n",
    "plt.xlabel(\"Input Voltage (node 1)\")\n",
    "plt.ylabel(\"Output Voltage (node 2)\")"
   ]
  },
  {
   "cell_type": "markdown",
   "metadata": {},
   "source": [
    "## Part 2: B-Source Components\n",
    "\n",
    "Here, we some an example using a B voltage soure.\n",
    "\n",
    "In this example, it is used to create a series of voltage selected voltage outputs."
   ]
  },
  {
   "cell_type": "markdown",
   "metadata": {},
   "source": [
    "First, lets set up our circuit. \\\n",
    "We use a voltage source to run a voltage sweep on an 'imaginary' node.\n",
    "This is used to control the B-source."
   ]
  },
  {
   "cell_type": "code",
   "execution_count": null,
   "metadata": {},
   "outputs": [],
   "source": [
    "# # create the circuit\n",
    "circuit2 = Circuit('Tutorial 4.2')\n",
    "\n",
    "# # Define the 1N4148PH (Signal Diode)\n",
    "circuit2.model('MyDiode', 'D', IS=4.352@u_nA, RS=0.6458@u_Ohm, BV=110@u_V, IBV=0.0001@u_V, N=1.906)\n",
    "\n",
    "# # valtage source\n",
    "circuit2.V('i', 'img', circuit2.gnd, 0@u_V)\n",
    "\n",
    "\n",
    "circuit2.Diode(1, 1, 2, model='MyDiode')\n",
    "circuit2.R(1, 2, circuit2.gnd, 1@u_kOhm)  # @u_kΩ is a unit of kOhms"
   ]
  },
  {
   "cell_type": "markdown",
   "metadata": {},
   "source": [
    "Now, lets create a 'look up table' of sorts, to create the B-sourse output behaviour associated with the imaginaty voltage."
   ]
  },
  {
   "cell_type": "code",
   "execution_count": null,
   "metadata": {},
   "outputs": [],
   "source": [
    "data = [0,1,5,6,2,4,4.5,5]\n",
    "v_seq = \"pwl(v(img),\"\n",
    "loop = 1\n",
    "for val in data:\n",
    "\n",
    "    # If the line gets too big, then move to a new line safely\n",
    "    if loop % 10 == 0:\n",
    "        v_seq += os.linesep + '+'\n",
    "\n",
    "    # Create pwl voltage mapping\n",
    "    if loop == len(data):\n",
    "        v_seq += ' %d,%.2f' % (loop, val)\n",
    "    else:\n",
    "        v_seq += ' %d,%.2f,' % (loop, val)\n",
    "    loop += 1\n",
    "v_seq += ')'\n",
    "\n",
    "v_seq"
   ]
  },
  {
   "cell_type": "code",
   "execution_count": null,
   "metadata": {},
   "outputs": [],
   "source": [
    "circuit2.B('custom_source', 1, circuit2.gnd, v=v_seq)\n",
    "\n",
    "print(circuit2)"
   ]
  },
  {
   "cell_type": "code",
   "execution_count": null,
   "metadata": {},
   "outputs": [],
   "source": [
    "simulator1 = circuit2.simulator(temperature=25, nominal_temperature=25)"
   ]
  },
  {
   "cell_type": "code",
   "execution_count": null,
   "metadata": {},
   "outputs": [],
   "source": [
    "analysis2 = simulator1.dc(Vi=slice(1, len(data)-1, 1))\n",
    "analysis2.sweep"
   ]
  },
  {
   "cell_type": "code",
   "execution_count": null,
   "metadata": {},
   "outputs": [],
   "source": [
    "plt.plot(np.array(analysis2[\"img\"]), np.array(analysis2[\"1\"]))\n",
    "plt.xlabel(\"Imaginay Node Voltage sweep (node img)\")\n",
    "plt.ylabel(\"B-Source Voltage (node 1)\")\n",
    "plt.title('B-Source Behaviour')"
   ]
  },
  {
   "cell_type": "code",
   "execution_count": null,
   "metadata": {},
   "outputs": [],
   "source": [
    "plt.plot(np.array(analysis2[\"1\"]), np.array(analysis2[\"2\"]))\n",
    "plt.xlabel(\"B-Source Voltage (node 1)\")\n",
    "plt.ylabel(\"Output Voltage (node 2)\")\n",
    "plt.title('Circuit Behaviour')"
   ]
  },
  {
   "cell_type": "code",
   "execution_count": null,
   "metadata": {},
   "outputs": [],
   "source": [
    "v_seq"
   ]
  },
  {
   "cell_type": "code",
   "execution_count": null,
   "metadata": {},
   "outputs": [],
   "source": [
    "from utils.methods import format_analysis\n",
    "\n",
    "format_analysis(analysis2, cast=True)"
   ]
  }
 ],
 "metadata": {
  "kernelspec": {
   "display_name": "etspice",
   "language": "python",
   "name": "python3"
  },
  "language_info": {
   "codemirror_mode": {
    "name": "ipython",
    "version": 3
   },
   "file_extension": ".py",
   "mimetype": "text/x-python",
   "name": "python",
   "nbconvert_exporter": "python",
   "pygments_lexer": "ipython3",
   "version": "3.10.14"
  }
 },
 "nbformat": 4,
 "nbformat_minor": 2
}
