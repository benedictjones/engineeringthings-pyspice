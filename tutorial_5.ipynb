{
 "cells": [
  {
   "cell_type": "markdown",
   "metadata": {},
   "source": [
    "# Tutorial 5\n",
    "\n",
    "Now, we analysis the diffennt ways we can create or import components.\n"
   ]
  },
  {
   "cell_type": "markdown",
   "metadata": {},
   "source": [
    "### Set Up\n",
    "\n",
    "Lets get some intital imports out the way, and set auto reload, incase we change any of the external utils etc."
   ]
  },
  {
   "cell_type": "code",
   "execution_count": null,
   "metadata": {},
   "outputs": [],
   "source": [
    "import numpy as np\n",
    "import matplotlib.pyplot as plt\n",
    "import sys\n",
    "\n",
    "%load_ext autoreload\n",
    "%autoreload 2"
   ]
  },
  {
   "cell_type": "markdown",
   "metadata": {},
   "source": [
    "Now, `pyspice` imports, and setting up a logger."
   ]
  },
  {
   "cell_type": "code",
   "execution_count": null,
   "metadata": {},
   "outputs": [],
   "source": [
    "import PySpice\n",
    "import PySpice.Logging.Logging as Logging\n",
    "from PySpice.Spice.Netlist import Circuit\n",
    "from PySpice.Unit import *\n",
    "\n",
    "logger = Logging.setup_logging()"
   ]
  },
  {
   "cell_type": "markdown",
   "metadata": {},
   "source": [
    "Might need to change the simulator..."
   ]
  },
  {
   "cell_type": "code",
   "execution_count": null,
   "metadata": {},
   "outputs": [],
   "source": [
    "# # # change sim program location depending on system\n",
    "# if sys.platform == \"linux\" or sys.platform == \"linux2\":\n",
    "#     PySpice.Spice.Simulation.CircuitSimulator.DEFAULT_SIMULATOR = 'ngspice-subprocess'  # needed for linux\n",
    "# elif sys.platform == \"win32\":\n",
    "#     # You will get logging errors/warning, but is should work\n",
    "#     pass"
   ]
  },
  {
   "cell_type": "markdown",
   "metadata": {},
   "source": [
    "## Method 0: Locally Defined Components"
   ]
  },
  {
   "cell_type": "code",
   "execution_count": null,
   "metadata": {},
   "outputs": [],
   "source": [
    "# # create the circuit\n",
    "circuit = Circuit('Tutorial 5.0')\n",
    "\n",
    "# # add components to the circuit\n",
    "circuit.V('input', 1, circuit.gnd, 10@u_V)\n",
    "circuit.R(1, 2, circuit.gnd, 1@u_kOhm)  # @u_kΩ is a unit of kOhms\n",
    "\n",
    "circuit.model('MyDiode', 'D', IS=4.352@u_nA, RS=0.6458@u_Ohm, BV=110@u_V, IBV=0.0001@u_V, N=1.906)  # Define the 1N4148PH (Signal Diode)\n",
    "circuit.Diode(1, 1, 2, model='MyDiode')\n",
    "\n",
    "print(circuit)"
   ]
  },
  {
   "cell_type": "code",
   "execution_count": null,
   "metadata": {},
   "outputs": [],
   "source": [
    "simulator = circuit.simulator(temperature=25, nominal_temperature=25)\n",
    "analysis = simulator.dc(Vinput=slice(-3, 3, 0.01)) # where: slice = start:step:stop (inclusive)\n",
    "\n",
    "plt.plot(np.array(analysis[\"1\"]), np.array(analysis[\"2\"]))\n",
    "plt.xlabel(\"Input Voltage (node 1)\")\n",
    "plt.ylabel(\"Output Voltage (node 2)\")"
   ]
  },
  {
   "cell_type": "markdown",
   "metadata": {},
   "source": [
    "## Method 1: PySpice Library\n",
    "\n",
    "A library is a directory which is recursively scanned for `.lib` file and\n",
    "parsed for sub-circuit and models definitions.\n",
    "\n",
    "A library should be able to be imported using:\n",
    "```\n",
    "spice_library = SpiceLibrary('/some/path/')\n",
    "```\n",
    "And, to retrieve the file path use: `spice_library['device']` (where name is device.lib)\n",
    "\n",
    "*Unfortunatly, I cannot seem to get this method to work.\n",
    "Please refer to the PySpice docs.*"
   ]
  },
  {
   "cell_type": "code",
   "execution_count": null,
   "metadata": {},
   "outputs": [],
   "source": [
    "# from PySpice.Spice.Library import SpiceLibrary\n",
    "\n",
    "\n",
    "# # # create the circuit\n",
    "# circuit = Circuit('Tutorial 5.1')\n",
    "\n",
    "# # # add components to the circuit\n",
    "# circuit.V('input', 1, circuit.gnd, 10@u_V)\n",
    "# circuit.R(1, 2, circuit.gnd, 1@u_kOhm)  # @u_kΩ is a unit of kOhms\n",
    "\n",
    "# spice_library = SpiceLibrary('/lib/')\n",
    "# circuit.include(spice_library['1n4148'])\n",
    "# circuit.X('importDiode', '1N4148', 1, 2)\n",
    "\n",
    "# print(circuit)"
   ]
  },
  {
   "cell_type": "markdown",
   "metadata": {},
   "source": [
    "## Method 2:  Manually include isung the circuit object\n",
    "\n",
    "Use `circuit.include()` to add a `.lib` file."
   ]
  },
  {
   "cell_type": "code",
   "execution_count": null,
   "metadata": {},
   "outputs": [],
   "source": [
    "# # create the circuit\n",
    "circuit = Circuit('Tutorial 5.2')\n",
    "\n",
    "# # add components to the circuit\n",
    "circuit.V('input', 1, circuit.gnd, 10@u_V)\n",
    "circuit.R(1, 2, circuit.gnd, 1@u_kOhm)  # @u_kΩ is a unit of kOhms\n",
    "\n",
    "pathh = \"lib/1N4148.lib\"\n",
    "circuit.include(pathh)  # this adds the system path to the start!!\n",
    "circuit.X('importDiode', '1N4148', 1, 2)\n",
    "\n",
    "print(circuit)"
   ]
  },
  {
   "cell_type": "code",
   "execution_count": null,
   "metadata": {},
   "outputs": [],
   "source": [
    "simulator = circuit.simulator(temperature=25, nominal_temperature=25)\n",
    "analysis = simulator.dc(Vinput=slice(-3, 3, 0.01)) # where: slice = start:step:stop (inclusive)\n",
    "\n",
    "plt.plot(np.array(analysis[\"1\"]), np.array(analysis[\"2\"]))\n",
    "plt.xlabel(\"Input Voltage (node 1)\")\n",
    "plt.ylabel(\"Output Voltage (node 2)\")"
   ]
  },
  {
   "cell_type": "markdown",
   "metadata": {},
   "source": [
    "## Method 3: Include using Raw Spice\n",
    "\n",
    "We can just manually write additional lines to our netlist."
   ]
  },
  {
   "cell_type": "code",
   "execution_count": null,
   "metadata": {},
   "outputs": [],
   "source": [
    "import os\n",
    "\n",
    "# # create the circuit\n",
    "circuit = Circuit('Tutorial 5.3')\n",
    "\n",
    "# # add components to the circuit\n",
    "circuit.V('input', 1, circuit.gnd, 10@u_V)\n",
    "circuit.R(1, 2, circuit.gnd, 1@u_kOhm)  # @u_kΩ is a unit of kOhms\n",
    "\n",
    "new_line = \".include lib/1n4148.lib\"\n",
    "circuit.raw_spice += new_line + os.linesep\n",
    "circuit.X('importDiode', '1N4148', 1, 2)\n",
    "\n",
    "print(circuit)"
   ]
  },
  {
   "cell_type": "markdown",
   "metadata": {},
   "source": [
    "We can use a helpful function to make this slightly simpler:"
   ]
  },
  {
   "cell_type": "code",
   "execution_count": null,
   "metadata": {},
   "outputs": [],
   "source": [
    "from utils.methods import write_line_to_netlist\n",
    "\n",
    "# # create the circuit\n",
    "circuit = Circuit('Tutorial 5.3')\n",
    "\n",
    "# # add components to the circuit\n",
    "circuit.V('input', 1, circuit.gnd, 10@u_V)\n",
    "circuit.R(1, 2, circuit.gnd, 1@u_kOhm)  # @u_kΩ is a unit of kOhms\n",
    "\n",
    "circuit = write_line_to_netlist(circuit, \".include lib/1n4148.lib\")\n",
    "circuit.X('importDiode', '1N4148', 1, 2)\n",
    "\n",
    "print(circuit)"
   ]
  },
  {
   "cell_type": "code",
   "execution_count": null,
   "metadata": {},
   "outputs": [],
   "source": [
    "simulator = circuit.simulator(temperature=25, nominal_temperature=25)\n",
    "analysis = simulator.dc(Vinput=slice(-3, 3, 0.01)) # where: slice = start:step:stop (inclusive)\n",
    "\n",
    "plt.plot(np.array(analysis[\"1\"]), np.array(analysis[\"2\"]))\n",
    "plt.xlabel(\"Input Voltage (node 1)\")\n",
    "plt.ylabel(\"Output Voltage (node 2)\")"
   ]
  }
 ],
 "metadata": {
  "kernelspec": {
   "display_name": "etspice",
   "language": "python",
   "name": "python3"
  },
  "language_info": {
   "codemirror_mode": {
    "name": "ipython",
    "version": 3
   },
   "file_extension": ".py",
   "mimetype": "text/x-python",
   "name": "python",
   "nbconvert_exporter": "python",
   "pygments_lexer": "ipython3",
   "version": "3.10.14"
  }
 },
 "nbformat": 4,
 "nbformat_minor": 2
}
