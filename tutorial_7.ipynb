{
 "cells": [
  {
   "cell_type": "markdown",
   "metadata": {},
   "source": [
    "# Tutorial 7 - Parallelisation\n",
    "\n",
    "While python gives us the flexibility to easily run complex paramateric sweeps, we now want to reach for better eficiency by introducing multiprocessing.\n",
    "\n",
    "*This notebook is designed and run using linux.* \\\n",
    "*Getting multiprocessing working in a juypiter notebook on other platforms (e.g., windows) might be tricky.*"
   ]
  },
  {
   "cell_type": "markdown",
   "metadata": {},
   "source": [
    "### Set Up\n",
    "\n",
    "Lets get some intital imports out the way, and set auto reload, incase we change any of the external utils etc."
   ]
  },
  {
   "cell_type": "code",
   "execution_count": null,
   "metadata": {},
   "outputs": [],
   "source": [
    "import numpy as np\n",
    "import matplotlib.pyplot as plt\n",
    "\n",
    "%load_ext autoreload\n",
    "%autoreload 2"
   ]
  },
  {
   "cell_type": "markdown",
   "metadata": {},
   "source": [
    "Now, `pyspice` imports, and setting up a logger."
   ]
  },
  {
   "cell_type": "code",
   "execution_count": null,
   "metadata": {},
   "outputs": [],
   "source": [
    "import PySpice\n",
    "import PySpice.Logging.Logging as Logging\n",
    "from PySpice.Spice.Netlist import Circuit\n",
    "from PySpice.Unit import *\n",
    "\n",
    "logger = Logging.setup_logging()"
   ]
  },
  {
   "cell_type": "markdown",
   "metadata": {},
   "source": [
    "Might need to change the simulator..."
   ]
  },
  {
   "cell_type": "code",
   "execution_count": null,
   "metadata": {},
   "outputs": [],
   "source": [
    "# # # change sim program location depending on system\n",
    "# if sys.platform == \"linux\" or sys.platform == \"linux2\":\n",
    "#     PySpice.Spice.Simulation.CircuitSimulator.DEFAULT_SIMULATOR = 'ngspice-subprocess'  # needed for linux\n",
    "# elif sys.platform == \"win32\":\n",
    "#     # You will get logging errors/warning, but is should work\n",
    "#     pass"
   ]
  },
  {
   "cell_type": "markdown",
   "metadata": {},
   "source": [
    "Lets define several circuits for our analysis to iterate over."
   ]
  },
  {
   "cell_type": "code",
   "execution_count": null,
   "metadata": {},
   "outputs": [],
   "source": [
    "my_sweep = []\n",
    "for r in np.arange(500, 100000, 500):\n",
    "\n",
    "    # # create the circuit\n",
    "    circuit = Circuit(f\"Tutorial 7: R={r} Ohm\")\n",
    "\n",
    "    # # add components to the circuit\n",
    "    # circuit.V('input', 'n1', circuit.gnd, 10@u_V) # DC voltage comonent\n",
    "    Vac = circuit.SinusoidalVoltageSource('input', 'n1', circuit.gnd, amplitude=1@u_V, frequency=100@u_Hz)\n",
    "    R = circuit.R(1, 'n1', 'n2', r@u_kOhm)  # @u_kΩ is a unit of kOhms\n",
    "    C = circuit.C(1, 'n2', circuit.gnd, 1@u_uF)\n",
    "    circuit.Diode(1, 'n2', 'n3', model='MyDiode')  # using cutom defined diode\n",
    "    circuit.R(2, 'n3', circuit.gnd, 1@u_kOhm)  # @u_kΩ is a unit of kOhms\n",
    "\n",
    "    # add our diode\n",
    "    circuit.model('MyDiode', 'D', IS=4.352@u_nA, RS=0.6458@u_Ohm, BV=110@u_V, IBV=0.0001@u_V, N=1.906)  # Define the 1N4148PH (Signal Diode)\n",
    "\n",
    "    # Print the netlist\n",
    "    simulator = circuit.simulator(temperature=25, nominal_temperature=25)\n",
    "\n",
    "    my_sweep.append(simulator)"
   ]
  },
  {
   "cell_type": "markdown",
   "metadata": {},
   "source": [
    "Set up simulator function"
   ]
  },
  {
   "cell_type": "code",
   "execution_count": null,
   "metadata": {},
   "outputs": [],
   "source": [
    "def perform_simulation(simulation):\n",
    "    analysis = simulator.transient(step_time=0.0001, end_time=0.1)\n",
    "    return analysis"
   ]
  },
  {
   "cell_type": "code",
   "execution_count": null,
   "metadata": {},
   "outputs": [],
   "source": [
    "import time\n",
    "\n",
    "tic = time.time()\n",
    "results = [perform_simulation(sim) for sim in my_sweep]\n",
    "\n",
    "toc = time.time()\n",
    "print(f\"Total time = {toc-tic}\")"
   ]
  },
  {
   "cell_type": "markdown",
   "metadata": {},
   "source": [
    "Now, if we just thow this directly into a multiprocessing pool, it fails...\n",
    "\n",
    "We can see it has something to do with `ForkingPickler`, so we can assume this is when we pass the simulator into, or the analysis result out of, the process. "
   ]
  },
  {
   "cell_type": "code",
   "execution_count": null,
   "metadata": {},
   "outputs": [],
   "source": [
    "from multiprocessing import Pool\n",
    "\n",
    "if __name__ ==  '__main__': \n",
    "    \n",
    "    try:\n",
    "        with Pool() as p:\n",
    "            results_mp = p.map(perform_simulation, my_sweep)\n",
    "    except Exception as e:\n",
    "        print('Failed to MP with passed sims')\n",
    "  "
   ]
  },
  {
   "cell_type": "markdown",
   "metadata": {},
   "source": [
    "Lets format the analysis results ans see if that helps"
   ]
  },
  {
   "cell_type": "code",
   "execution_count": null,
   "metadata": {},
   "outputs": [],
   "source": [
    "from utils.methods import format_analysis\n",
    "\n",
    "def perform_simulation_to_dict(simulator) -> dict:\n",
    "    analysis = simulator.transient(step_time=0.0001, end_time=0.1)\n",
    "    return format_analysis(analysis)"
   ]
  },
  {
   "cell_type": "markdown",
   "metadata": {},
   "source": [
    "This still fails..."
   ]
  },
  {
   "cell_type": "code",
   "execution_count": null,
   "metadata": {},
   "outputs": [],
   "source": [
    "from multiprocessing import Pool\n",
    "\n",
    "if __name__ ==  '__main__': \n",
    "    \n",
    "    try:\n",
    "        with Pool() as p:\n",
    "            results_mp = p.map(perform_simulation_to_dict, my_sweep)\n",
    "    except Exception as e:\n",
    "        print('Failed to MP with passed sims with a formatted output')\n",
    "  "
   ]
  },
  {
   "cell_type": "markdown",
   "metadata": {},
   "source": [
    "Finally, lets look at creating the circuit, running the simulation, and extracting the desired results which can be returned without an error."
   ]
  },
  {
   "cell_type": "code",
   "execution_count": null,
   "metadata": {},
   "outputs": [],
   "source": [
    "def create_and_perform_simulation(r:float) -> dict:\n",
    "\n",
    "    # # create the circuit\n",
    "    circuit = Circuit(f\"Tutorial 7: R={r} Ohm\")\n",
    "\n",
    "    # # add components to the circuit\n",
    "    # circuit.V('input', 'n1', circuit.gnd, 10@u_V) # DC voltage comonent\n",
    "    Vac = circuit.SinusoidalVoltageSource('input', 'n1', circuit.gnd, amplitude=1@u_V, frequency=100@u_Hz)\n",
    "    R = circuit.R(1, 'n1', 'n2', r@u_kOhm)  # @u_kΩ is a unit of kOhms\n",
    "    C = circuit.C(1, 'n2', circuit.gnd, 1@u_uF)\n",
    "    circuit.Diode(1, 'n2', 'n3', model='MyDiode')  # using cutom defined diode\n",
    "    circuit.R(2, 'n3', circuit.gnd, 1@u_kOhm)  # @u_kΩ is a unit of kOhms\n",
    "\n",
    "    # add our diode\n",
    "    circuit.model('MyDiode', 'D', IS=4.352@u_nA, RS=0.6458@u_Ohm, BV=110@u_V, IBV=0.0001@u_V, N=1.906)  # Define the 1N4148PH (Signal Diode)\n",
    "\n",
    "    # Print the netlist\n",
    "    simulator = circuit.simulator(temperature=25, nominal_temperature=25)\n",
    "\n",
    "    analysis = simulator.transient(step_time=0.0001, end_time=0.1)\n",
    "\n",
    "    return format_analysis(analysis)"
   ]
  },
  {
   "cell_type": "code",
   "execution_count": null,
   "metadata": {},
   "outputs": [],
   "source": [
    "resistor_sweep = np.arange(500, 100000, 500)\n",
    "\n",
    "if __name__ ==  '__main__': \n",
    "    \n",
    "    tic = time.time()\n",
    "    with Pool() as p:\n",
    "        results_mp = p.map(create_and_perform_simulation, resistor_sweep)\n",
    "    toc = time.time()\n",
    "    \n",
    "mp_time = toc-tic\n",
    "print(f\"MP Total time = {mp_time}\")"
   ]
  },
  {
   "cell_type": "markdown",
   "metadata": {},
   "source": [
    "For a direct comparison lets run serially.\n",
    "\n",
    "We get much faster speeds with multiprocessing."
   ]
  },
  {
   "cell_type": "code",
   "execution_count": null,
   "metadata": {},
   "outputs": [],
   "source": [
    "tic = time.time()\n",
    "results_serial = [create_and_perform_simulation(r) for r in resistor_sweep]\n",
    "toc = time.time()\n",
    "\n",
    "serial_time = toc-tic\n",
    "print(f\"Serially run total time = {serial_time}\")\n",
    "\n",
    "speed_up = serial_time/mp_time\n",
    "f\"Speed up is: {speed_up:.2f} times\""
   ]
  },
  {
   "cell_type": "markdown",
   "metadata": {},
   "source": [
    "Now, the results from the multiprocessing and just manually looping though should be the same.\n",
    "Lets test this:"
   ]
  },
  {
   "cell_type": "code",
   "execution_count": null,
   "metadata": {},
   "outputs": [],
   "source": [
    "for i, res_serial in enumerate(results_serial):\n",
    "\n",
    "    for k, v in res_serial.items():\n",
    "        \n",
    "        are_they_equal = (results_mp[i][k] == v).all()\n",
    "\n",
    "        if are_they_equal is False:\n",
    "            raise ValueError('Serial and Multiprocessed results are not the same')\n",
    "\n",
    "'Passed test!'"
   ]
  },
  {
   "cell_type": "markdown",
   "metadata": {},
   "source": [
    "### Summary\n",
    "\n",
    "In order to exploit multiprocessing, the circuit, simulation, and results extracted from the analysis must all be performed within the spun up process.\n",
    "i.e., PySpice objects cannot currently be passed to and from processes."
   ]
  }
 ],
 "metadata": {
  "kernelspec": {
   "display_name": "etspice",
   "language": "python",
   "name": "python3"
  },
  "language_info": {
   "codemirror_mode": {
    "name": "ipython",
    "version": 3
   },
   "file_extension": ".py",
   "mimetype": "text/x-python",
   "name": "python",
   "nbconvert_exporter": "python",
   "pygments_lexer": "ipython3",
   "version": "3.10.14"
  }
 },
 "nbformat": 4,
 "nbformat_minor": 2
}
