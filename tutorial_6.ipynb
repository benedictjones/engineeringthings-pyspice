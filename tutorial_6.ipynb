{
 "cells": [
  {
   "cell_type": "markdown",
   "metadata": {},
   "source": [
    "# Tutorial 6 - Transient Analysis\n",
    "\n",
    "Implement a transient and AC analysis.\n"
   ]
  },
  {
   "cell_type": "markdown",
   "metadata": {},
   "source": [
    "### Set Up\n",
    "\n",
    "Lets get some intital imports out the way, and set auto reload, incase we change any of the external utils etc."
   ]
  },
  {
   "cell_type": "code",
   "execution_count": null,
   "metadata": {},
   "outputs": [],
   "source": [
    "import numpy as np\n",
    "import matplotlib.pyplot as plt\n",
    "\n",
    "%load_ext autoreload\n",
    "%autoreload 2"
   ]
  },
  {
   "cell_type": "markdown",
   "metadata": {},
   "source": [
    "Now, `pyspice` imports, and setting up a logger."
   ]
  },
  {
   "cell_type": "code",
   "execution_count": null,
   "metadata": {},
   "outputs": [],
   "source": [
    "import PySpice\n",
    "import PySpice.Logging.Logging as Logging\n",
    "from PySpice.Spice.Netlist import Circuit\n",
    "from PySpice.Unit import *\n",
    "\n",
    "logger = Logging.setup_logging()"
   ]
  },
  {
   "cell_type": "markdown",
   "metadata": {},
   "source": [
    "Might need to change the simulator..."
   ]
  },
  {
   "cell_type": "code",
   "execution_count": null,
   "metadata": {},
   "outputs": [],
   "source": [
    "# # # change sim program location depending on system\n",
    "# if sys.platform == \"linux\" or sys.platform == \"linux2\":\n",
    "#     PySpice.Spice.Simulation.CircuitSimulator.DEFAULT_SIMULATOR = 'ngspice-subprocess'  # needed for linux\n",
    "# elif sys.platform == \"win32\":\n",
    "#     # You will get logging errors/warning, but is should work\n",
    "#     pass"
   ]
  },
  {
   "cell_type": "markdown",
   "metadata": {},
   "source": [
    "Lets define a circuit for our analysis, ensuring we use a sinusoidal voltage source (not a DC)."
   ]
  },
  {
   "cell_type": "code",
   "execution_count": null,
   "metadata": {},
   "outputs": [],
   "source": [
    "# # create the circuit\n",
    "circuit = Circuit('Tutorial 6.1')\n",
    "\n",
    "# # add components to the circuit\n",
    "# circuit.V('input', 'n1', circuit.gnd, 10@u_V) # DC voltage comonent\n",
    "Vac = circuit.SinusoidalVoltageSource('input', 'n1', circuit.gnd, amplitude=1@u_V, frequency=100@u_Hz)\n",
    "R = circuit.R(1, 'n1', 'n2', 1@u_kOhm)  # @u_kΩ is a unit of kOhms\n",
    "C = circuit.C(1, 'n2', circuit.gnd, 1@u_uF)\n",
    "circuit.Diode(1, 'n2', 'n3', model='MyDiode')  # using cutom defined diode\n",
    "circuit.R(2, 'n3', circuit.gnd, 1@u_kOhm)  # @u_kΩ is a unit of kOhms\n",
    "\n",
    "# add our diode\n",
    "circuit.model('MyDiode', 'D', IS=4.352@u_nA, RS=0.6458@u_Ohm, BV=110@u_V, IBV=0.0001@u_V, N=1.906)  # Define the 1N4148PH (Signal Diode)\n",
    "\n",
    "# Print the netlist\n",
    "print(circuit)"
   ]
  },
  {
   "cell_type": "markdown",
   "metadata": {},
   "source": [
    "Create a simulator"
   ]
  },
  {
   "cell_type": "code",
   "execution_count": null,
   "metadata": {},
   "outputs": [],
   "source": [
    "simulator = circuit.simulator(temperature=25, nominal_temperature=25)"
   ]
  },
  {
   "cell_type": "markdown",
   "metadata": {},
   "source": [
    "### Transient Analysis\n",
    "\n",
    "Lets run our transient analysis"
   ]
  },
  {
   "cell_type": "code",
   "execution_count": null,
   "metadata": {},
   "outputs": [],
   "source": [
    "analysis = simulator.transient(step_time=0.0001, end_time=0.1)"
   ]
  },
  {
   "cell_type": "markdown",
   "metadata": {},
   "source": [
    "We now have a time result in our analysis results"
   ]
  },
  {
   "cell_type": "code",
   "execution_count": null,
   "metadata": {},
   "outputs": [],
   "source": [
    "analysis.time[:5]"
   ]
  },
  {
   "cell_type": "code",
   "execution_count": null,
   "metadata": {},
   "outputs": [],
   "source": [
    "from utils.methods import format_analysis\n",
    "\n",
    "format_analysis(analysis)"
   ]
  },
  {
   "cell_type": "code",
   "execution_count": null,
   "metadata": {},
   "outputs": [],
   "source": [
    "plt.plot(np.array(analysis.time), np.array(analysis[\"n1\"]), label='V(n1)')\n",
    "plt.plot(np.array(analysis.time), np.array(analysis[\"n2\"]), label='V(n2)')\n",
    "plt.plot(np.array(analysis.time), np.array(analysis[\"n3\"]), label='V(n3)')\n",
    "plt.xlabel(\"Time (s)\")\n",
    "plt.ylabel(\"Output Voltage\")\n",
    "plt.legend()"
   ]
  },
  {
   "cell_type": "markdown",
   "metadata": {},
   "source": [
    "We can use our defined voltage source to specify our step and end time sensibly."
   ]
  },
  {
   "cell_type": "code",
   "execution_count": null,
   "metadata": {},
   "outputs": [],
   "source": [
    "analysis = simulator.transient(step_time=Vac.period/1000, end_time=Vac.period)"
   ]
  },
  {
   "cell_type": "code",
   "execution_count": null,
   "metadata": {},
   "outputs": [],
   "source": [
    "plt.plot(np.array(analysis.time), np.array(analysis[\"n1\"]), label='V(n1)')\n",
    "plt.plot(np.array(analysis.time), np.array(analysis[\"n2\"]), label='V(n2)')\n",
    "plt.plot(np.array(analysis.time), np.array(analysis[\"n3\"]), label='V(n3)')\n",
    "plt.xlabel(\"Time (s)\")\n",
    "plt.ylabel(\"Output Voltage\")\n",
    "plt.legend()"
   ]
  },
  {
   "cell_type": "markdown",
   "metadata": {},
   "source": [
    "### AC Analysis\n",
    "\n",
    "Lets run our AC analysis, and sweep accross different frequencies."
   ]
  },
  {
   "cell_type": "code",
   "execution_count": null,
   "metadata": {},
   "outputs": [],
   "source": [
    "analysis = simulator.ac(start_frequency=1@u_Hz, stop_frequency=1@u_MHz, number_of_points=10,  variation='dec')"
   ]
  },
  {
   "cell_type": "markdown",
   "metadata": {},
   "source": [
    "Now, we have a new value in our analysis results"
   ]
  },
  {
   "cell_type": "code",
   "execution_count": null,
   "metadata": {},
   "outputs": [],
   "source": [
    "analysis.frequency[:5]"
   ]
  },
  {
   "cell_type": "code",
   "execution_count": null,
   "metadata": {},
   "outputs": [],
   "source": [
    "format_analysis(analysis).keys()"
   ]
  },
  {
   "cell_type": "markdown",
   "metadata": {},
   "source": [
    "Now we can calculate the corner frequency, and we can extract the values directly from the circuit components."
   ]
  },
  {
   "cell_type": "code",
   "execution_count": null,
   "metadata": {},
   "outputs": [],
   "source": [
    "import math\n",
    "\n",
    "break_frequency = 1 / (2 * math.pi * float(R.resistance * C.capacitance))\n",
    "print(\"Break frequency = {:.1f} Hz\".format(break_frequency))\n"
   ]
  },
  {
   "cell_type": "code",
   "execution_count": null,
   "metadata": {},
   "outputs": [],
   "source": [
    "from PySpice.Plot.BodeDiagram import bode_diagram\n",
    "\n",
    "fig, axes = plt.subplots(2)\n",
    "plt.title(\"Bode Diagram of a Low-Pass RC Filter\")\n",
    "bode_diagram(axes=axes,\n",
    "             frequency=analysis.frequency,\n",
    "             gain=20*np.log10(np.absolute(analysis.n2)),\n",
    "             phase=np.angle(analysis.n2, deg=False),\n",
    "             marker='.',\n",
    "             color='blue',\n",
    "             linestyle='-')\n",
    "\n",
    "# Add a vertical line at the\n",
    "for ax in axes:\n",
    "    ax.axvline(x=break_frequency, color='red')\n",
    "\n",
    "plt.tight_layout()"
   ]
  }
 ],
 "metadata": {
  "kernelspec": {
   "display_name": "etspice",
   "language": "python",
   "name": "python3"
  },
  "language_info": {
   "codemirror_mode": {
    "name": "ipython",
    "version": 3
   },
   "file_extension": ".py",
   "mimetype": "text/x-python",
   "name": "python",
   "nbconvert_exporter": "python",
   "pygments_lexer": "ipython3",
   "version": "3.10.14"
  }
 },
 "nbformat": 4,
 "nbformat_minor": 2
}
